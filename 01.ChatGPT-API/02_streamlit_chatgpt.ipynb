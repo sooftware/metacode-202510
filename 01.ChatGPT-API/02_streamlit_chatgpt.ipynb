{
 "cells": [
  {
   "cell_type": "code",
   "execution_count": 1,
   "id": "3bed1da2-3cfd-4b3c-a4ae-73f512819c08",
   "metadata": {},
   "outputs": [
    {
     "name": "stderr",
     "output_type": "stream",
     "text": [
      "2025-09-17 00:39:32.883 WARNING streamlit.runtime.scriptrunner_utils.script_run_context: Thread 'MainThread': missing ScriptRunContext! This warning can be ignored when running in bare mode.\n",
      "2025-09-17 00:39:32.950 \n",
      "  \u001b[33m\u001b[1mWarning:\u001b[0m to view this Streamlit app on a browser, run it with the following\n",
      "  command:\n",
      "\n",
      "    streamlit run /opt/anaconda3/envs/tunibridge/lib/python3.10/site-packages/ipykernel_launcher.py [ARGUMENTS]\n",
      "2025-09-17 00:39:32.950 Thread 'MainThread': missing ScriptRunContext! This warning can be ignored when running in bare mode.\n",
      "2025-09-17 00:39:32.951 Thread 'MainThread': missing ScriptRunContext! This warning can be ignored when running in bare mode.\n",
      "2025-09-17 00:39:32.951 Thread 'MainThread': missing ScriptRunContext! This warning can be ignored when running in bare mode.\n",
      "2025-09-17 00:39:32.951 Session state does not function when running a script without `streamlit run`\n",
      "2025-09-17 00:39:32.951 Thread 'MainThread': missing ScriptRunContext! This warning can be ignored when running in bare mode.\n",
      "2025-09-17 00:39:32.951 Thread 'MainThread': missing ScriptRunContext! This warning can be ignored when running in bare mode.\n",
      "2025-09-17 00:39:32.952 Thread 'MainThread': missing ScriptRunContext! This warning can be ignored when running in bare mode.\n",
      "2025-09-17 00:39:32.952 Thread 'MainThread': missing ScriptRunContext! This warning can be ignored when running in bare mode.\n",
      "2025-09-17 00:39:32.952 Thread 'MainThread': missing ScriptRunContext! This warning can be ignored when running in bare mode.\n",
      "2025-09-17 00:39:32.952 Thread 'MainThread': missing ScriptRunContext! This warning can be ignored when running in bare mode.\n",
      "2025-09-17 00:39:32.952 Thread 'MainThread': missing ScriptRunContext! This warning can be ignored when running in bare mode.\n",
      "2025-09-17 00:39:32.952 Thread 'MainThread': missing ScriptRunContext! This warning can be ignored when running in bare mode.\n",
      "2025-09-17 00:39:32.953 Thread 'MainThread': missing ScriptRunContext! This warning can be ignored when running in bare mode.\n",
      "2025-09-17 00:39:32.953 Thread 'MainThread': missing ScriptRunContext! This warning can be ignored when running in bare mode.\n",
      "2025-09-17 00:39:32.953 Thread 'MainThread': missing ScriptRunContext! This warning can be ignored when running in bare mode.\n",
      "2025-09-17 00:39:32.953 Thread 'MainThread': missing ScriptRunContext! This warning can be ignored when running in bare mode.\n",
      "2025-09-17 00:39:32.953 Thread 'MainThread': missing ScriptRunContext! This warning can be ignored when running in bare mode.\n",
      "2025-09-17 00:39:32.954 Thread 'MainThread': missing ScriptRunContext! This warning can be ignored when running in bare mode.\n",
      "2025-09-17 00:39:32.954 Thread 'MainThread': missing ScriptRunContext! This warning can be ignored when running in bare mode.\n",
      "2025-09-17 00:39:32.954 Thread 'MainThread': missing ScriptRunContext! This warning can be ignored when running in bare mode.\n"
     ]
    }
   ],
   "source": [
    "\"\"\"\n",
    "아래 코드를 ***.py로 저장하고, streamlit run ***.py로 실행\n",
    "\n",
    "!pip install streamlit\n",
    "\"\"\"\n",
    "\n",
    "import streamlit as st  \n",
    "import os  \n",
    "from openai import OpenAI  \n",
    "  \n",
    "os.environ[\"OPENAI_API_KEY\"] = \"YOUR_OPENAI_API_KEY\"  \n",
    "client = OpenAI()  \n",
    "  \n",
    "st.title(\"Streamlit ChatGPT\")  \n",
    "  \n",
    "if 'messages' not in st.session_state:  \n",
    "    st.session_state.messages = []  \n",
    "  \n",
    "user_message = st.text_input(\"User:\")  \n",
    "  \n",
    "if st.button(\"Send\"):  \n",
    "    st.session_state.messages.append({\"role\": \"user\", \"content\": user_message})  \n",
    "  \n",
    "    completion = client.chat.completions.create(  \n",
    "        model=\"gpt-3.5-turbo\",  \n",
    "        messages=st.session_state.messages,  \n",
    "    )  \n",
    "    response = completion.choices[0].message.content  \n",
    "    st.session_state.messages.append({\"role\": \"assistant\", \"content\": response})  \n",
    "  \n",
    "for message in reversed(st.session_state.messages):  \n",
    "    with st.chat_message(message['role']):  \n",
    "        if message['role'] == 'user':  \n",
    "            st.write(message['content'])  \n",
    "        else:  \n",
    "            st.write(message['content'], avatar=st.image('assets/openai-logo.webp', width=30))"
   ]
  },
  {
   "cell_type": "code",
   "execution_count": null,
   "id": "192ee876-3a40-40d4-b103-17cc25fcd202",
   "metadata": {},
   "outputs": [],
   "source": []
  }
 ],
 "metadata": {
  "kernelspec": {
   "display_name": "Python 3 (ipykernel)",
   "language": "python",
   "name": "python3"
  },
  "language_info": {
   "codemirror_mode": {
    "name": "ipython",
    "version": 3
   },
   "file_extension": ".py",
   "mimetype": "text/x-python",
   "name": "python",
   "nbconvert_exporter": "python",
   "pygments_lexer": "ipython3",
   "version": "3.13.5"
  }
 },
 "nbformat": 4,
 "nbformat_minor": 5
}
