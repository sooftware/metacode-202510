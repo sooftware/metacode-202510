{
 "cells": [
  {
   "cell_type": "markdown",
   "id": "16cafa06-a821-4f15-995a-cf6c010d6389",
   "metadata": {},
   "source": [
    "## 첫 번째 API 호출\n",
    "\n",
    "`.env` 파일을 만들고 `OPENAI_API_KEY=sk-proj-...`와 같은 형식으로 등록해주세요"
   ]
  },
  {
   "cell_type": "code",
   "execution_count": 1,
   "id": "b20942d8-dc38-45ac-958c-7797b2a767ef",
   "metadata": {},
   "outputs": [
    {
     "name": "stdout",
     "output_type": "stream",
     "text": [
      "AI 응답: 안녕하세요! API를 사용해보신다니 멋지십니다. API를 활용하면 다양한 기능을 손쉽게 구현할 수 있습니다. 궁금한 점이 있으면 언제든지 물어봐주세요. 함께 공부해보도록 하죠! 😊\n",
      "사용된 토큰: 117\n"
     ]
    }
   ],
   "source": [
    "import os\n",
    "from openai import OpenAI\n",
    "from dotenv import load_dotenv\n",
    "\n",
    "# 환경변수 로드\n",
    "load_dotenv()\n",
    "\n",
    "# OpenAI 클라이언트 초기화\n",
    "client = OpenAI(\n",
    "    api_key=os.getenv(\"OPENAI_API_KEY\")\n",
    ")\n",
    "\n",
    "# 첫 번째 API 호출\n",
    "try:\n",
    "    response = client.chat.completions.create(\n",
    "        model=\"gpt-3.5-turbo\",\n",
    "        messages=[\n",
    "            {\n",
    "                \"role\": \"user\", \n",
    "                \"content\": \"안녕하세요! 처음으로 API를 사용해봅니다.\"\n",
    "            }\n",
    "        ]\n",
    "    )\n",
    "    \n",
    "    # 응답 출력\n",
    "    print(\"AI 응답:\", response.choices[0].message.content)\n",
    "    print(\"사용된 토큰:\", response.usage.total_tokens)\n",
    "    \n",
    "except Exception as e:\n",
    "    print(f\"오류 발생: {e}\")"
   ]
  },
  {
   "cell_type": "markdown",
   "id": "a3899d9a-292a-4c73-96ed-bf6f4ecfd4bc",
   "metadata": {},
   "source": [
    "### 기본 API 구조"
   ]
  },
  {
   "cell_type": "code",
   "execution_count": null,
   "id": "cb5c9458-6bb2-4016-bd01-713f3df9dde3",
   "metadata": {},
   "outputs": [],
   "source": [
    "response = client.chat.completions.create(\n",
    "    model=\"gpt-3.5-turbo\",              # 필수: 사용할 모델\n",
    "    messages=[...],                     # 필수: 대화 내용\n",
    "    temperature=0.7,                    # 선택: 창의성\n",
    "    max_tokens=150,                     # 선택: 최대 출력 길이\n",
    "    top_p=1.0,                         # 선택: 토큰 선택 범위\n",
    "    frequency_penalty=0.0,              # 선택: 반복 억제\n",
    "    presence_penalty=0.0,               # 선택: 주제 다양성\n",
    "    stop=[\"\\n\", \"###\"],                # 선택: 생성 중단 조건\n",
    ")"
   ]
  },
  {
   "cell_type": "markdown",
   "id": "1f63a3e0-4edc-4a3d-97d6-8af3af012596",
   "metadata": {},
   "source": [
    "### messages 예시"
   ]
  },
  {
   "cell_type": "code",
   "execution_count": 3,
   "id": "06307a76-fc9a-40db-9e46-1661ece72758",
   "metadata": {},
   "outputs": [],
   "source": [
    "# 기본 구조\n",
    "messages = [\n",
    "    {\"role\": \"system\", \"content\": \"시스템 메시지\"},\n",
    "    {\"role\": \"user\", \"content\": \"사용자 메시지\"},\n",
    "    {\"role\": \"assistant\", \"content\": \"AI 응답\"},\n",
    "    {\"role\": \"user\", \"content\": \"추가 사용자 메시지\"}\n",
    "]\n",
    "\n",
    "# 실제 예시: 코딩 도우미\n",
    "coding_assistant_messages = [\n",
    "    {\n",
    "        \"role\": \"system\", \n",
    "        \"content\": \"\"\"\n",
    "        당신은 전문 Python 개발자입니다.\n",
    "        - 코드는 항상 주석과 함께 제공하세요\n",
    "        - 초보자도 이해할 수 있게 설명하세요  \n",
    "        - 실행 가능한 코드만 제공하세요\n",
    "        \"\"\"\n",
    "    },\n",
    "    {\n",
    "        \"role\": \"user\", \n",
    "        \"content\": \"리스트에서 중복 요소를 제거하는 함수를 만들어주세요\"\n",
    "    }\n",
    "]\n",
    "\n",
    "# 대화 기록 유지 예시\n",
    "conversation_history = [\n",
    "    {\"role\": \"system\", \"content\": \"친절한 고객 상담원입니다.\"},\n",
    "    {\"role\": \"user\", \"content\": \"주문 취소하고 싶어요\"},\n",
    "    {\"role\": \"assistant\", \"content\": \"주문번호를 알려주시면 확인해드리겠습니다.\"},\n",
    "    {\"role\": \"user\", \"content\": \"주문번호는 12345입니다\"},  # 새로운 메시지\n",
    "]"
   ]
  },
  {
   "cell_type": "markdown",
   "id": "13a3d9a1-dc50-467c-8d1c-09f666389583",
   "metadata": {},
   "source": [
    "### temperature - 창의성 조절"
   ]
  },
  {
   "cell_type": "code",
   "execution_count": 8,
   "id": "bc6558d1-4124-4405-b17a-0dd6a9585233",
   "metadata": {},
   "outputs": [
    {
     "name": "stdout",
     "output_type": "stream",
     "text": [
      "temperature 0.1\n",
      "\n",
      "커피 한 잔, 아침의 시작  \n",
      "뜨거운 향기, 마음을 감싸네  \n",
      "검은 물결 속에 담긴 꿈들  \n",
      "한 모금에 세상이 열리네  \n",
      "\n",
      "부드러운 입술, 쓴맛의 속삭임  \n",
      "잠에서 깨어나는 나의 하루  \n",
      "커피와 함께하는 작은 순간  \n",
      "삶의 여운을 담아내네  \n",
      "\n",
      "==================================================\n",
      "\n",
      "temperature 1.5\n",
      "\n",
      "혁신의 향기, 깊고 진한 컵 속,  \n",
      "검은 액체는 하루를 여는 주문,  \n",
      "자아가 스르륵 일어나 속삭이며  \n",
      "자의식의 편안함, 찻잔 가득.  \n",
      "\n",
      "조용한 영혼과 함께 나누는 이야기,  \n",
      "입을 덮는 따사로운 덩어리처럼,  \n",
      "외로운 메마름을 적시듯  \n",
      "매일의 한 줄기를 감싸안을 따낌.  \n"
     ]
    }
   ],
   "source": [
    "prompt = \"커피에 대한 짧은 시를 써줘\"\n",
    "\n",
    "response_low_temperature = client.chat.completions.create(\n",
    "    model=\"gpt-4o-mini\",\n",
    "    messages=[{\"role\": \"user\", \"content\": prompt}],\n",
    "    temperature=0.1,\n",
    ")\n",
    "\n",
    "response_high_temperature = client.chat.completions.create(\n",
    "    model=\"gpt-4o-mini\",\n",
    "    messages=[{\"role\": \"user\", \"content\": prompt}],\n",
    "    temperature=1.5,\n",
    ")\n",
    "# 결과\n",
    "print(f\"temperature 0.1\\n\\n{response_low_temperature.choices[0].message.content}\", end=\"\\n\\n\")\n",
    "print(\"=\" * 50, end=\"\\n\\n\")\n",
    "print(f\"temperature 1.5\\n\\n{response_high_temperature.choices[0].message.content}\")"
   ]
  },
  {
   "cell_type": "markdown",
   "id": "5a6471a7-2499-4d31-9ff6-31ba9f9c44b3",
   "metadata": {},
   "source": [
    "### 간단한 질의 응답"
   ]
  },
  {
   "cell_type": "code",
   "execution_count": 9,
   "id": "dbbc5e08-26fc-4336-af22-a9aba8022573",
   "metadata": {},
   "outputs": [
    {
     "name": "stdout",
     "output_type": "stream",
     "text": [
      "1 + 1은 2입니다. 더 궁금한 수학 문제가 있으면 언제든지 물어보세요!\n"
     ]
    }
   ],
   "source": [
    "# Prompt\n",
    "prompt_qa = \"1+1은 무엇인가요?\"\n",
    "\n",
    "# API 호출\n",
    "response = client.chat.completions.create(\n",
    "    model=\"gpt-4o-mini\",\n",
    "    messages=[\n",
    "        {\"role\": \"system\", \"content\": \"당신은 친절한 수학 선생님입니다.\"},\n",
    "        {\"role\": \"user\", \"content\": prompt_qa}\n",
    "    ],\n",
    "    temperature=0.5,\n",
    "    max_tokens=50\n",
    ")\n",
    "\n",
    "# 출력\n",
    "print(response.choices[0].message.content)"
   ]
  },
  {
   "cell_type": "markdown",
   "id": "9d6662cb-f500-4c64-b620-bc2e7a9f448a",
   "metadata": {},
   "source": [
    "### 글 요약"
   ]
  },
  {
   "cell_type": "code",
   "execution_count": 10,
   "id": "1f1cd245-261d-45d6-abc4-99956e93d921",
   "metadata": {},
   "outputs": [
    {
     "name": "stdout",
     "output_type": "stream",
     "text": [
      "오늘은 날씨가 좋았고, 아침에 공원에서 조깅한 후 점심에 친구들과 카페에서 시간을 보냈다. 오후에는 책을 읽으며 휴식을 취했다.\n"
     ]
    }
   ],
   "source": [
    "prompt_summary = \"\"\"\n",
    "다음 글을 2문장으로 요약해줘.\n",
    "\"오늘은 날씨가 매우 좋았다. 아침에는 공원에서 조깅을 하고, 점심에는 친구들과 카페에 갔다. 오후에는 책을 읽으며 휴식을 취했다.\"\n",
    "\"\"\"\n",
    "\n",
    "response = client.chat.completions.create(\n",
    "    model=\"gpt-4o-mini\",\n",
    "    messages=[\n",
    "        {\"role\": \"system\", \"content\": \"당신은 글을 간결하게 요약하는 전문가입니다.\"},\n",
    "        {\"role\": \"user\", \"content\": prompt_summary}\n",
    "    ],\n",
    "    temperature=0.3,\n",
    "    max_tokens=100\n",
    ")\n",
    "\n",
    "print(response.choices[0].message.content)\n"
   ]
  },
  {
   "cell_type": "markdown",
   "id": "02d6330e-3dbd-408b-9c11-3c2644ead55e",
   "metadata": {},
   "source": [
    "### 이메일 작성"
   ]
  },
  {
   "cell_type": "code",
   "execution_count": 11,
   "id": "d8bad876-6e60-4354-b6ec-5fc7e5efa84e",
   "metadata": {},
   "outputs": [
    {
     "name": "stdout",
     "output_type": "stream",
     "text": [
      "제목: 이번 주 프로젝트 진행 상황 보고\n",
      "\n",
      "안녕하세요 [상사 이름]님,\n",
      "\n",
      "저희 팀의 프로젝트 진행 상황에 대해 보고 드리고자 합니다.\n",
      "\n",
      "현재 프로젝트는 순조롭게 진행되고 있으며, 이번 주에는 다음과 같은 주요 성과를 이루었습니다:\n",
      "\n",
      "1. [성과 1: 예를 들어, 특정 작업 완료, 주요 미팅 진행 등]\n",
      "2. [성과 2: 예를 들어, 고객 피드백 수집, 데이터 분석 완료 등]\n",
      "3. [성과 3: 예를 들어, 다음 단계 준비 완료 등]\n",
      "\n",
      "또한, 프로젝트 진행 중 몇 가지 도전 과제가 있었으나, [해결 방안 또는 진행 중인 해결책]을 통해 해결해 나가고 있습니다. 앞으로의 계획으로는 [다음 단계 또는 목표]를 설정하고 있습니다.\n",
      "\n",
      "추가적으로 궁금하신 사항이나 더 필요한 정보가 있으시면 언제든지 말씀해 주시기 바랍니다.\n",
      "\n",
      "감사합니다\n"
     ]
    }
   ],
   "source": [
    "prompt_email = \"회사 상사에게 이번 주 프로젝트 진행 상황을 보고하는 정중한 이메일 작성\"\n",
    "\n",
    "response = client.chat.completions.create(\n",
    "    model=\"gpt-4o-mini\",\n",
    "    messages=[\n",
    "        {\"role\": \"system\", \"content\": \"당신은 직장 이메일 작성 전문가입니다.\"},\n",
    "        {\"role\": \"user\", \"content\": prompt_email}\n",
    "    ],\n",
    "    temperature=0.6,\n",
    "    max_tokens=200\n",
    ")\n",
    "\n",
    "print(response.choices[0].message.content)"
   ]
  },
  {
   "cell_type": "markdown",
   "id": "150d00c4-bdff-4ed4-9fb0-fc4cda50800b",
   "metadata": {},
   "source": [
    "#### 코드 생성"
   ]
  },
  {
   "cell_type": "code",
   "execution_count": 13,
   "id": "b2db1a54-2cd8-4be1-846f-bc66e1adc1ea",
   "metadata": {},
   "outputs": [
    {
     "name": "stdout",
     "output_type": "stream",
     "text": [
      "소수를 확인하는 함수를 작성하는 것은 비교적 간단합니다. 아래는 입력받은 숫자가 소수인지 확인하는 파이썬 함수의 예입니다.\n",
      "\n",
      "```python\n",
      "def is_prime(n):\n",
      "    \"\"\"주어진 숫자가 소수인지 확인하는 함수\"\"\"\n",
      "    if n <= 1:\n",
      "        return False  # 1 이하의 숫자는 소수가 아님\n",
      "    for i in range(2, int(n**0.5) + 1):\n",
      "        if n % i == 0:\n",
      "            return False  # 나누어 떨어지면 소수가 아님\n",
      "    return True  # 소수임\n",
      "\n",
      "# 사용자로부터 숫자 입력 받기\n",
      "number = int(input(\"숫자를 입력하세요: \"))\n",
      "if is_prime(number):\n",
      "    print(f\"{number}는 소수입니다.\")\n",
      "else:\n",
      "    print(f\"{number}는 소수가 아닙니다.\")\n",
      "```\n",
      "\n",
      "이 함수는 다음과 같은 방식으로 작동합니다:\n",
      "\n",
      "1. 입력된 숫자가 1 이하인 경우 소수가 아니므로 `False`를 반환합니다.\n",
      "2. 2부터 입력된 숫자의 제곱근까지 반복하면서, 숫자가 나누어 떨어지는지 확인합니다.\n",
      "3. 나누어 떨어지는 경우 소수가 아니므로 `False`를 반환합니다.\n",
      "4. 모든 조건을 통과하면 소수이므로 `True`를 반환합니다.\n",
      "\n",
      "사용자가 입력한 숫자가 소수인지 여부를 확인하고 결과를 출력합니다.\n"
     ]
    }
   ],
   "source": [
    "prompt_code = \"파이썬으로 입력받은 숫자가 소수인지 확인하는 함수 작성\"\n",
    "\n",
    "response = client.chat.completions.create(\n",
    "    model=\"gpt-4o-mini\",\n",
    "    messages=[\n",
    "        {\"role\": \"system\", \"content\": \"당신은 파이썬 코딩 전문가입니다.\"},\n",
    "        {\"role\": \"user\", \"content\": prompt_code}\n",
    "    ],\n",
    "    temperature=0.5,\n",
    ")\n",
    "\n",
    "print(response.choices[0].message.content)"
   ]
  },
  {
   "cell_type": "markdown",
   "id": "dfebe49c-9569-4bfb-9a85-f973a991cffc",
   "metadata": {},
   "source": [
    "### 번역"
   ]
  },
  {
   "cell_type": "code",
   "execution_count": 14,
   "id": "64b09eb7-ba51-4c24-b5f3-8f7457ad1416",
   "metadata": {},
   "outputs": [
    {
     "name": "stdin",
     "output_type": "stream",
     "text": [
      "번역할 한국어 문장을 입력하세요:  오늘은 2025년 10월 18일입니다.\n"
     ]
    },
    {
     "name": "stdout",
     "output_type": "stream",
     "text": [
      "\n",
      "=== 번역 결과 ===\n",
      "\"Today is October 18, 2025.\"\n"
     ]
    }
   ],
   "source": [
    "# 사용자 입력 받기\n",
    "text_to_translate = input(\"번역할 한국어 문장을 입력하세요: \")\n",
    "\n",
    "# 프롬프트 작성\n",
    "prompt_translate = f\"이 글을 영어로 자연스럽게 번역해줘:\\n'{text_to_translate}'\"\n",
    "\n",
    "# API 호출\n",
    "response = client.chat.completions.create(\n",
    "    model=\"gpt-4o-mini\",\n",
    "    messages=[\n",
    "        {\"role\": \"system\", \"content\": \"당신은 번역 전문가입니다.\"},\n",
    "        {\"role\": \"user\", \"content\": prompt_translate}\n",
    "    ],\n",
    "    temperature=0.3,\n",
    "    max_tokens=100\n",
    ")\n",
    "\n",
    "# 출력\n",
    "print(\"\\n=== 번역 결과 ===\")\n",
    "print(response.choices[0].message.content)\n"
   ]
  },
  {
   "cell_type": "code",
   "execution_count": null,
   "id": "e237e81b-083d-4823-80e6-41e35f2c3d8a",
   "metadata": {},
   "outputs": [],
   "source": []
  },
  {
   "cell_type": "code",
   "execution_count": null,
   "id": "d49d62bf-b23a-42aa-8076-cbe0e0f65a96",
   "metadata": {},
   "outputs": [],
   "source": []
  },
  {
   "cell_type": "code",
   "execution_count": null,
   "id": "3b203ec7-1084-46a2-a821-e9ffdaea8287",
   "metadata": {},
   "outputs": [],
   "source": []
  },
  {
   "cell_type": "code",
   "execution_count": null,
   "id": "0b17c172-1722-4695-a71d-46bd6ff5c05e",
   "metadata": {},
   "outputs": [],
   "source": []
  }
 ],
 "metadata": {
  "kernelspec": {
   "display_name": "Python 3 (ipykernel)",
   "language": "python",
   "name": "python3"
  },
  "language_info": {
   "codemirror_mode": {
    "name": "ipython",
    "version": 3
   },
   "file_extension": ".py",
   "mimetype": "text/x-python",
   "name": "python",
   "nbconvert_exporter": "python",
   "pygments_lexer": "ipython3",
   "version": "3.13.5"
  }
 },
 "nbformat": 4,
 "nbformat_minor": 5
}
